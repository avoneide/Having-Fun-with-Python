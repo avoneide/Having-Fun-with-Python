{
 "cells": [
  {
   "attachments": {
    "image.png": {
     "image/png": "[encoded data removed]"
    }
   },
   "cell_type": "markdown",
   "metadata": {},
   "source": [
    "# 1.Should I wear a face mask in public?\n",
    "![image.png](attachment:image.png)\n",
    "\n",
    "The recent rise in community transmission of COVID-19 in Australia means some states and territories now recommend or require the use of masks. Currently this includes Victoria, New South Wales and Queensland.\n",
    "\n",
    "Since then, there is an ongoing debate on the potential usefulness of wearing masks. In this notebook, I am going to analyse the data from https://ourworldindata.org/covid-cases, to decide the importance of wearing masks properly. \n"
   ]
  },
  {
   "cell_type": "code",
   "execution_count": 1,
   "metadata": {},
   "outputs": [
    {
     "name": "stdout",
     "output_type": "stream",
     "text": [
      "          date  new_cases_per_million  total_cases_per_million\n",
      "0   2019-12-31                  0.000                    0.000\n",
      "1   2020-01-01                  0.000                    0.000\n",
      "2   2020-02-01                  0.000                    0.000\n",
      "3   2020-03-01                  0.000                    0.000\n",
      "4   2020-04-01                  0.000                    0.000\n",
      "5   2020-05-01                  0.000                    0.000\n",
      "6   2020-06-01                  0.000                    0.000\n",
      "7   2020-07-01                  0.000                    0.000\n",
      "8   2020-08-01                  0.000                    0.000\n",
      "9   2020-09-01                  0.000                    0.000\n",
      "10  2020-10-01                  0.000                    0.000\n",
      "11  2020-11-01                  0.000                    0.000\n",
      "12  2020-12-01                  0.000                    0.000\n",
      "13  2020-01-13                  0.000                    0.000\n",
      "14  2020-01-14                  0.000                    0.000\n",
      "15  2020-01-15                  0.000                    0.000\n",
      "16  2020-01-16                  0.000                    0.000\n",
      "17  2020-01-17                  0.000                    0.000\n",
      "18  2020-01-18                  0.000                    0.000\n",
      "19  2020-01-19                  0.000                    0.000\n",
      "20  2020-01-20                  0.000                    0.000\n",
      "21  2020-01-21                  0.000                    0.000\n",
      "22  2020-01-22                  0.000                    0.000\n",
      "23  2020-01-23                  0.000                    0.000\n",
      "24  2020-01-24                  0.000                    0.000\n",
      "25  2020-01-25                  0.039                    0.039\n",
      "26  2020-01-26                  0.118                    0.157\n",
      "27  2020-01-27                  0.000                    0.157\n",
      "28  2020-01-28                  0.000                    0.157\n",
      "29  2020-01-29                  0.000                    0.157\n",
      "..         ...                    ...                      ...\n",
      "243 2020-08-30                  3.882                 1001.848\n",
      "244 2020-08-31                  4.824                 1006.671\n",
      "245 2020-01-09                  2.980                 1009.652\n",
      "246 2020-02-09                  2.863                 1012.515\n",
      "247 2020-03-09                  4.078                 1016.593\n",
      "248 2020-04-09                  4.941                 1021.534\n",
      "249 2020-05-09                  3.412                 1024.946\n",
      "250 2020-06-09                  2.784                 1027.730\n",
      "251 2020-07-09                  2.824                 1030.554\n",
      "252 2020-08-09                  1.686                 1032.240\n",
      "253 2020-09-09                  2.039                 1034.279\n",
      "254 2020-10-09                  3.569                 1037.848\n",
      "255 2020-11-09                  1.882                 1039.730\n",
      "256 2020-12-09                  2.039                 1041.770\n",
      "257 2020-09-13                  1.647                 1043.417\n",
      "258 2020-09-14                  1.725                 1045.142\n",
      "259 2020-09-15                  1.608                 1046.750\n",
      "260 2020-09-16                  1.804                 1048.554\n",
      "261 2020-09-17                  1.608                 1050.162\n",
      "262 2020-09-18                  1.333                 1051.495\n",
      "263 2020-09-19                  1.882                 1053.377\n",
      "264 2020-09-20                  0.941                 1054.319\n",
      "265 2020-09-21                  0.510                 1054.828\n",
      "266 2020-09-22                  0.549                 1055.377\n",
      "267 2020-09-23                  1.176                 1056.554\n",
      "268 2020-09-24                  1.216                 1057.770\n",
      "269 2020-09-25                  0.392                 1058.162\n",
      "270 2020-09-26                  0.667                 1058.828\n",
      "271 2020-09-27                  0.627                 1059.456\n",
      "272 2020-09-28                  0.941                 1060.397\n",
      "\n",
      "[273 rows x 3 columns]\n"
     ]
    }
   ],
   "source": [
    "# importing modules\n",
    "import pandas as pd\n",
    "# Read aus_covid_data_before into daily\n",
    "daily = pd.read_csv(\"aus_covid_data.csv\",parse_dates=[\"date\"])\n",
    "\n",
    "# Print out yearly\n",
    "print(daily)"
   ]
  },
  {
   "cell_type": "code",
   "execution_count": 2,
   "metadata": {
    "scrolled": true
   },
   "outputs": [
    {
     "data": {
      "text/html": [
       "<div>\n",
       "<style scoped>\n",
       "    .dataframe tbody tr th:only-of-type {\n",
       "        vertical-align: middle;\n",
       "    }\n",
       "\n",
       "    .dataframe tbody tr th {\n",
       "        vertical-align: top;\n",
       "    }\n",
       "\n",
       "    .dataframe thead th {\n",
       "        text-align: right;\n",
       "    }\n",
       "</style>\n",
       "<table border=\"1\" class=\"dataframe\">\n",
       "  <thead>\n",
       "    <tr style=\"text-align: right;\">\n",
       "      <th></th>\n",
       "      <th>date</th>\n",
       "      <th>new_cases_per_million</th>\n",
       "      <th>total_cases_per_million</th>\n",
       "      <th>proportion_newcases</th>\n",
       "    </tr>\n",
       "  </thead>\n",
       "  <tbody>\n",
       "    <tr>\n",
       "      <th>0</th>\n",
       "      <td>2019-12-31</td>\n",
       "      <td>0.0</td>\n",
       "      <td>0.0</td>\n",
       "      <td>NaN</td>\n",
       "    </tr>\n",
       "    <tr>\n",
       "      <th>1</th>\n",
       "      <td>2020-01-01</td>\n",
       "      <td>0.0</td>\n",
       "      <td>0.0</td>\n",
       "      <td>NaN</td>\n",
       "    </tr>\n",
       "    <tr>\n",
       "      <th>2</th>\n",
       "      <td>2020-02-01</td>\n",
       "      <td>0.0</td>\n",
       "      <td>0.0</td>\n",
       "      <td>NaN</td>\n",
       "    </tr>\n",
       "    <tr>\n",
       "      <th>3</th>\n",
       "      <td>2020-03-01</td>\n",
       "      <td>0.0</td>\n",
       "      <td>0.0</td>\n",
       "      <td>NaN</td>\n",
       "    </tr>\n",
       "    <tr>\n",
       "      <th>4</th>\n",
       "      <td>2020-04-01</td>\n",
       "      <td>0.0</td>\n",
       "      <td>0.0</td>\n",
       "      <td>NaN</td>\n",
       "    </tr>\n",
       "  </tbody>\n",
       "</table>\n",
       "</div>"
      ],
      "text/plain": [
       "        date  new_cases_per_million  total_cases_per_million  \\\n",
       "0 2019-12-31                    0.0                      0.0   \n",
       "1 2020-01-01                    0.0                      0.0   \n",
       "2 2020-02-01                    0.0                      0.0   \n",
       "3 2020-03-01                    0.0                      0.0   \n",
       "4 2020-04-01                    0.0                      0.0   \n",
       "\n",
       "   proportion_newcases  \n",
       "0                  NaN  \n",
       "1                  NaN  \n",
       "2                  NaN  \n",
       "3                  NaN  \n",
       "4                  NaN  "
      ]
     },
     "execution_count": 2,
     "metadata": {},
     "output_type": "execute_result"
    }
   ],
   "source": [
    "# Calculate proportion of new cases per no. total cases\n",
    "daily[\"proportion_newcases\"]=daily[\"new_cases_per_million\"]/daily[\"total_cases_per_million\"]\n",
    "\n",
    "# Print out the first rows in daily\n",
    "daily.head()"
   ]
  },
  {
   "cell_type": "code",
   "execution_count": 3,
   "metadata": {},
   "outputs": [
    {
     "data": {
      "text/plain": [
       "Text(0, 0.5, 'Proportion New Cases')"
      ]
     },
     "execution_count": 3,
     "metadata": {},
     "output_type": "execute_result"
    },
    {
     "data": {
      "image/png": "[encoded data removed]",
      "text/plain": [
       "<Figure size 432x288 with 1 Axes>"
      ]
     },
     "metadata": {
      "needs_background": "light"
     },
     "output_type": "display_data"
    }
   ],
   "source": [
    "%matplotlib inline\n",
    "\n",
    "#Plot the speed of daily added cases\n",
    "ax = daily.plot(x=\"date\", y=\"proportion_newcases\")\n",
    "ax.set_ylabel(\"Proportion New Cases\")"
   ]
  },
  {
   "cell_type": "markdown",
   "metadata": {},
   "source": [
    "#### The effect of maskwearing"
   ]
  },
  {
   "cell_type": "code",
   "execution_count": 4,
   "metadata": {},
   "outputs": [
    {
     "data": {
      "text/plain": [
       "Text(0, 0.5, 'Proportion new cases')"
      ]
     },
     "execution_count": 4,
     "metadata": {},
     "output_type": "execute_result"
    },
    {
     "data": {
      "image/png": "[encoded data removed]",
      "text/plain": [
       "<Figure size 432x288 with 1 Axes>"
      ]
     },
     "metadata": {
      "needs_background": "light"
     },
     "output_type": "display_data"
    }
   ],
   "source": [
    "# Date when maskwearing was made mandatory\n",
    "import pandas as pd\n",
    "maskwearing_start = pd.to_datetime('31-07-2020')\n",
    "\n",
    "# Split daily into before and after maskwearing_start\n",
    "before_wearing = daily[daily[\"date\"] < maskwearing_start]\n",
    "after_wearing = daily[daily[\"date\"] >= maskwearing_start]\n",
    "\n",
    "# Plot daily proportion of new cases before and after maskwearing\n",
    "ax = before_wearing.plot(x=\"date\", y=\"proportion_newcases\",\n",
    "                         label=\"Before maskwearing\")\n",
    "after_wearing.plot(x=\"date\", y=\"proportion_newcases\",\n",
    "                   label=\"After maskwearing\", ax=ax)\n",
    "ax.set_ylabel(\"Proportion new cases\")"
   ]
  },
  {
   "cell_type": "markdown",
   "metadata": {},
   "source": [
    "#### More Maskwearing, less new cases?"
   ]
  },
  {
   "cell_type": "code",
   "execution_count": 5,
   "metadata": {},
   "outputs": [
    {
     "data": {
      "text/plain": [
       "-0.035294863564230394"
      ]
     },
     "execution_count": 5,
     "metadata": {},
     "output_type": "execute_result"
    }
   ],
   "source": [
    "before_proportion = before_wearing[\"proportion_newcases\"]\n",
    "after_proportion = after_wearing[\"proportion_newcases\"]\n",
    "mean_diff = after_proportion.mean() - before_proportion.mean()\n",
    "mean_diff"
   ]
  },
  {
   "cell_type": "markdown",
   "metadata": {},
   "source": [
    "#### A Bootstrap analysis of Australia Covid-19 new cases data"
   ]
  },
  {
   "cell_type": "code",
   "execution_count": 6,
   "metadata": {},
   "outputs": [
    {
     "data": {
      "text/plain": [
       "0.025   -0.057109\n",
       "0.975   -0.017923\n",
       "dtype: float64"
      ]
     },
     "execution_count": 6,
     "metadata": {},
     "output_type": "execute_result"
    }
   ],
   "source": [
    "# A bootstrap analysis of the reduction of newly added cases due to maskwearing\n",
    "boot_mean_diff = []\n",
    "for i in range(300):\n",
    "    boot_before = before_proportion.sample(frac=1, replace=True)\n",
    "    boot_after = after_proportion.sample(frac=1, replace=True)\n",
    "    boot_mean_diff.append( boot_after.mean() - boot_before.mean() )\n",
    "\n",
    "# Calculating a 95% confidence interval from boot_mean_diff \n",
    "confidence_interval = pd.Series(boot_mean_diff).quantile([0.025, 0.975])\n",
    "confidence_interval"
   ]
  },
  {
   "cell_type": "code",
   "execution_count": 7,
   "metadata": {},
   "outputs": [],
   "source": [
    "# The data we analysed points to that:\n",
    "we_should_wear_masks = True"
   ]
  },
  {
   "attachments": {},
   "cell_type": "markdown",
   "metadata": {},
   "source": [
    "So weaking mask reduced the proportion of newly added cases by between 1.79 and 3.53 percentage points, according to a 95% confidence interval. All in all, it would seem that we had reasonable evidence that maskwearing was a simple but highly effective procedure that could save many lives.\n",
    "\n",
    "Thank you for your reading, and feel free to let me know your thoughts."
   ]
  }
 ],
 "metadata": {
  "kernelspec": {
   "display_name": "Python 3",
   "language": "python",
   "name": "python3"
  },
  "language_info": {
   "codemirror_mode": {
    "name": "ipython",
    "version": 3
   },
   "file_extension": ".py",
   "mimetype": "text/x-python",
   "name": "python",
   "nbconvert_exporter": "python",
   "pygments_lexer": "ipython3",
   "version": "3.7.1"
  }
 },
 "nbformat": 4,
 "nbformat_minor": 2
}
