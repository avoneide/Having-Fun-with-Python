{
 "cells": [
  {
   "cell_type": "code",
   "execution_count": 13,
   "metadata": {},
   "outputs": [],
   "source": [
    "#import libs\n",
    "import pymysql\n",
    "import pandas as pd"
   ]
  },
  {
   "cell_type": "code",
   "execution_count": 14,
   "metadata": {},
   "outputs": [],
   "source": [
    "# connect with Mysql\n",
    "conn = pymysql.connect(database='sdndb', user='devuser', password='Jura551c!')"
   ]
  },
  {
   "cell_type": "code",
   "execution_count": 16,
   "metadata": {},
   "outputs": [
    {
     "name": "stdout",
     "output_type": "stream",
     "text": [
      "(36, 25, '-0- ', 'Havana', 'Cuba', '-0- ')\n",
      "(173, 129, 'Ibex House, The Minories', 'London EC3N 1DY', 'United Kingdom', '-0- ')\n",
      "(306, 199, 'Zweierstrasse 35', 'Zurich CH-8022', 'Switzerland', '-0- ')\n",
      "(306, 200, 'Avenida de Concha Espina 8', 'Madrid E-28036', 'Spain', '-0- ')\n",
      "(306, 201, 'Dai-Ichi Bldg. 6th Floor, 10-2 Nihombashi, 2-chome, Chuo-ku', 'Tokyo 103', 'Japan', '-0- ')\n",
      "(306, 202, 'Federico Boyd Avenue & 51 Street', 'Panama City', 'Panama', '-0- ')\n",
      "(424, 247, '42 Via Brasil', 'Panama City', 'Panama', '-0- ')\n",
      "(475, 271, '-0- ', '-0- ', 'Spain', '-0- ')\n",
      "(475, 272, '-0- ', '-0- ', 'Mexico', '-0- ')\n",
      "(480, 276, '-0- ', 'Panama City', 'Panama', '-0- ')\n",
      "(535, 317, 'Emerson No. 148 Piso 7', 'Mexico, D.F. 11570', 'Mexico', '-0- ')\n",
      "(536, 318, '-0- ', '-0- ', 'Spain', '-0- ')\n",
      "(537, 319, '-0- ', '-0- ', 'Panama', '-0- ')\n",
      "(540, 321, '-0- ', '-0- ', 'Spain', '-0- ')\n",
      "(551, 328, '-0- ', '-0- ', 'Panama', '-0- ')\n",
      "(552, 329, 'Jose Lazaro Galdeano 6-6', 'Madrid 28016', 'Spain', '-0- ')\n",
      "(555, 331, '-0- ', 'Paris', 'France', '-0- ')\n",
      "(559, 334, '-0- ', '-0- ', 'Spain', '-0- ')\n",
      "(576, 346, '-0- ', '-0- ', 'Panama', '-0- ')\n",
      "(578, 348, '-0- ', 'Milan', 'Italy', '-0- ')\n"
     ]
    }
   ],
   "source": [
    "#read data\n",
    "mycursor = conn.cursor()\n",
    "\n",
    "mycursor.execute(\"SELECT * FROM sdn_add order by ent_num limit 20\")\n",
    "\n",
    "myresult = mycursor.fetchall()\n",
    "\n",
    "for x in myresult:\n",
    "  print(x)"
   ]
  },
  {
   "cell_type": "code",
   "execution_count": 4,
   "metadata": {},
   "outputs": [
    {
     "data": {
      "text/html": [
       "<div>\n",
       "<style scoped>\n",
       "    .dataframe tbody tr th:only-of-type {\n",
       "        vertical-align: middle;\n",
       "    }\n",
       "\n",
       "    .dataframe tbody tr th {\n",
       "        vertical-align: top;\n",
       "    }\n",
       "\n",
       "    .dataframe thead th {\n",
       "        text-align: right;\n",
       "    }\n",
       "</style>\n",
       "<table border=\"1\" class=\"dataframe\">\n",
       "  <thead>\n",
       "    <tr style=\"text-align: right;\">\n",
       "      <th></th>\n",
       "      <th>Country</th>\n",
       "      <th>count</th>\n",
       "    </tr>\n",
       "  </thead>\n",
       "  <tbody>\n",
       "    <tr>\n",
       "      <th>153</th>\n",
       "      <td>Ukraine</td>\n",
       "      <td>155</td>\n",
       "    </tr>\n",
       "    <tr>\n",
       "      <th>154</th>\n",
       "      <td>Iraq</td>\n",
       "      <td>168</td>\n",
       "    </tr>\n",
       "    <tr>\n",
       "      <th>155</th>\n",
       "      <td>Panama</td>\n",
       "      <td>189</td>\n",
       "    </tr>\n",
       "    <tr>\n",
       "      <th>156</th>\n",
       "      <td>Venezuela</td>\n",
       "      <td>195</td>\n",
       "    </tr>\n",
       "    <tr>\n",
       "      <th>157</th>\n",
       "      <td>Korea, North</td>\n",
       "      <td>210</td>\n",
       "    </tr>\n",
       "    <tr>\n",
       "      <th>158</th>\n",
       "      <td>United Arab Emirates</td>\n",
       "      <td>254</td>\n",
       "    </tr>\n",
       "    <tr>\n",
       "      <th>159</th>\n",
       "      <td>China</td>\n",
       "      <td>276</td>\n",
       "    </tr>\n",
       "    <tr>\n",
       "      <th>160</th>\n",
       "      <td>Pakistan</td>\n",
       "      <td>282</td>\n",
       "    </tr>\n",
       "    <tr>\n",
       "      <th>161</th>\n",
       "      <td>Lebanon</td>\n",
       "      <td>318</td>\n",
       "    </tr>\n",
       "    <tr>\n",
       "      <th>162</th>\n",
       "      <td>Russia</td>\n",
       "      <td>406</td>\n",
       "    </tr>\n",
       "    <tr>\n",
       "      <th>163</th>\n",
       "      <td>Syria</td>\n",
       "      <td>709</td>\n",
       "    </tr>\n",
       "    <tr>\n",
       "      <th>164</th>\n",
       "      <td>Iran</td>\n",
       "      <td>1095</td>\n",
       "    </tr>\n",
       "    <tr>\n",
       "      <th>165</th>\n",
       "      <td>Colombia</td>\n",
       "      <td>1669</td>\n",
       "    </tr>\n",
       "    <tr>\n",
       "      <th>166</th>\n",
       "      <td>Mexico</td>\n",
       "      <td>1800</td>\n",
       "    </tr>\n",
       "    <tr>\n",
       "      <th>167</th>\n",
       "      <td>-0-</td>\n",
       "      <td>2431</td>\n",
       "    </tr>\n",
       "  </tbody>\n",
       "</table>\n",
       "</div>"
      ],
      "text/plain": [
       "                  Country  count\n",
       "153               Ukraine    155\n",
       "154                  Iraq    168\n",
       "155                Panama    189\n",
       "156             Venezuela    195\n",
       "157          Korea, North    210\n",
       "158  United Arab Emirates    254\n",
       "159                 China    276\n",
       "160              Pakistan    282\n",
       "161               Lebanon    318\n",
       "162                Russia    406\n",
       "163                 Syria    709\n",
       "164                  Iran   1095\n",
       "165              Colombia   1669\n",
       "166                Mexico   1800\n",
       "167                  -0-    2431"
      ]
     },
     "execution_count": 4,
     "metadata": {},
     "output_type": "execute_result"
    }
   ],
   "source": [
    "df = pd.read_sql_query(\n",
    "    \"SELECT Country, COUNT(*) AS count FROM sdn_add GROUP BY Country order by count asc \",\n",
    "    conn)\n",
    "df.tail(15)"
   ]
  },
  {
   "cell_type": "code",
   "execution_count": 5,
   "metadata": {},
   "outputs": [
    {
     "data": {
      "image/png": "[encoded data removed]",
      "text/plain": [
       "<Figure size 432x288 with 1 Axes>"
      ]
     },
     "metadata": {
      "needs_background": "light"
     },
     "output_type": "display_data"
    }
   ],
   "source": [
    "%matplotlib inline\n",
    "\n",
    "df.index = df['count']\n",
    "p = df.tail(15).plot.bar()"
   ]
  },
  {
   "cell_type": "code",
   "execution_count": 6,
   "metadata": {},
   "outputs": [],
   "source": [
    "conn.close()"
   ]
  },
  {
   "cell_type": "code",
   "execution_count": null,
   "metadata": {},
   "outputs": [],
   "source": []
  }
 ],
 "metadata": {
  "kernelspec": {
   "display_name": "Python 3",
   "language": "python",
   "name": "python3"
  },
  "language_info": {
   "codemirror_mode": {
    "name": "ipython",
    "version": 3
   },
   "file_extension": ".py",
   "mimetype": "text/x-python",
   "name": "python",
   "nbconvert_exporter": "python",
   "pygments_lexer": "ipython3",
   "version": "3.7.1"
  }
 },
 "nbformat": 4,
 "nbformat_minor": 2
}
